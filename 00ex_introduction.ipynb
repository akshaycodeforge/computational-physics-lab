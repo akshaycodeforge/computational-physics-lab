{
 "cells": [
  {
   "cell_type": "markdown",
   "metadata": {},
   "source": [
    "1. The MickeyMouse problem\n",
    "\n",
    "a) Write a program that prints the numbers from 1 to 100. But for multiples of 3 print `Mickey` instead of the corresponding number and for the multiples of 5 print `Mouse`. For numbers which are multiples of both three and five print `MickeyMouse`\n",
    "\n",
    "b) Put the result in a tuple and substitute `Mickey` with `Donald` and `Mouse` with `Duck`"
   ]
  },
  {
   "cell_type": "code",
   "execution_count": 1,
   "metadata": {},
   "outputs": [
    {
     "name": "stdout",
     "output_type": "stream",
     "text": [
      "Micky\n",
      "Micky\n",
      "Micky\n",
      "Micky\n",
      "Micky\n",
      "Micky\n",
      "Micky\n",
      "Micky\n",
      "Micky\n",
      "Micky\n",
      "Micky\n",
      "Micky\n",
      "Micky\n",
      "Micky\n",
      "Micky\n",
      "Micky\n",
      "Micky\n",
      "Micky\n",
      "Micky\n",
      "Micky\n",
      "Micky\n",
      "Micky\n",
      "Micky\n",
      "Micky\n",
      "Micky\n",
      "Micky\n",
      "Micky\n",
      "Micky\n",
      "Micky\n",
      "Micky\n",
      "Micky\n",
      "Micky\n",
      "Micky\n",
      "Mouse\n",
      "Mouse\n",
      "Mouse\n",
      "Mouse\n",
      "Mouse\n",
      "Mouse\n",
      "Mouse\n",
      "Mouse\n",
      "Mouse\n",
      "Mouse\n",
      "Mouse\n",
      "Mouse\n",
      "Mouse\n",
      "Mouse\n",
      "Mouse\n",
      "Mouse\n",
      "Mouse\n",
      "Mouse\n",
      "Mouse\n",
      "MickeyMouse\n",
      "MickeyMouse\n",
      "MickeyMouse\n",
      "MickeyMouse\n",
      "MickeyMouse\n",
      "MickeyMouse\n"
     ]
    }
   ],
   "source": [
    "for p in range(1,100):\n",
    "    if p%3 == 0:\n",
    "        #print(p)\n",
    "        print('Micky')\n",
    "for q in range(1,100):\n",
    "    if q%5 == 0:\n",
    "        #print(q)\n",
    "        print('Mouse')\n",
    "for r in range(1,100):\n",
    "    if r%3 == 0 and r%5 == 0:\n",
    "        print('MickeyMouse')\n",
    "        #print(r)\n"
   ]
  },
  {
   "cell_type": "code",
   "execution_count": 2,
   "metadata": {},
   "outputs": [
    {
     "name": "stdout",
     "output_type": "stream",
     "text": [
      "(1, 2, 'Donald', 4, 'Duck', 'Donald', 7, 8, 'Donald', 'Duck', 11, 'Donald', 13, 14, 'DonaldDuck', 16, 17, 'Donald', 19, 'Duck', 'Donald', 22, 23, 'Donald', 'Duck', 26, 'Donald', 28, 29, 'DonaldDuck', 31, 32, 'Donald', 34, 'Duck', 'Donald', 37, 38, 'Donald', 'Duck', 41, 'Donald', 43, 44, 'DonaldDuck', 46, 47, 'Donald', 49, 'Duck', 'Donald', 52, 53, 'Donald', 'Duck', 56, 'Donald', 58, 59, 'DonaldDuck', 61, 62, 'Donald', 64, 'Duck', 'Donald', 67, 68, 'Donald', 'Duck', 71, 'Donald', 73, 74, 'DonaldDuck', 76, 77, 'Donald', 79, 'Duck', 'Donald', 82, 83, 'Donald', 'Duck', 86, 'Donald', 88, 89, 'DonaldDuck', 91, 92, 'Donald', 94, 'Duck', 'Donald', 97, 98, 'Donald')\n"
     ]
    }
   ],
   "source": [
    "results = []\n",
    "\n",
    "for i in range(1, 100):\n",
    "    if i % 3 == 0 and i % 5 == 0:\n",
    "        results.append(\"DonaldDuck\")\n",
    "    elif i % 3 == 0:\n",
    "        results.append(\"Donald\")\n",
    "    elif i % 5 == 0:\n",
    "        results.append(\"Duck\")\n",
    "    else:\n",
    "        results.append(i)\n",
    "\n",
    "result_tuple = tuple(results)\n",
    "print(result_tuple)\n"
   ]
  },
  {
   "cell_type": "markdown",
   "metadata": {},
   "source": [
    "2\\. The swap function\n",
    "\n",
    "Write a function that swap the values of two input variables x and y (whatever the type). Try to do that also without a temporary variable"
   ]
  },
  {
   "cell_type": "code",
   "execution_count": 3,
   "metadata": {},
   "outputs": [
    {
     "name": "stdout",
     "output_type": "stream",
     "text": [
      "20 10\n",
      "math physics\n"
     ]
    }
   ],
   "source": [
    "def swap_with_temp(x, y):\n",
    "    temp = x\n",
    "    x = y\n",
    "    y = temp\n",
    "    return x, y\n",
    "\n",
    "def swap_without_temp(x, y):\n",
    "    x, y = y, x\n",
    "    return x, y\n",
    "\n",
    "######################################\n",
    "\n",
    "a, b=10, 20\n",
    "a, b = swap_with_temp(a, b)\n",
    "print(a,b)\n",
    "\n",
    "########################\n",
    "a, b = \"physics\", \"math\"\n",
    "a, b = swap_without_temp(a, b)\n",
    "print(a, b)   \n"
   ]
  },
  {
   "cell_type": "markdown",
   "metadata": {},
   "source": [
    "3\\. Computing the distance\n",
    "\n",
    "Write a function that calculates and returns the euclidean distance between two points *u* and *v*, where *u* and *v* are both 2-tuples *(x,y)*. For example, if *u=(3,0)* and *v=(0,4)*, the function should return 5"
   ]
  },
  {
   "cell_type": "code",
   "execution_count": 4,
   "metadata": {},
   "outputs": [
    {
     "name": "stdout",
     "output_type": "stream",
     "text": [
      "5.0\n"
     ]
    }
   ],
   "source": [
    "import math\n",
    "\n",
    "def e_distance (u,v):\n",
    "    x1,y1=u\n",
    "    x2,y2=v\n",
    "    distance = math.sqrt((x2 - x1)**2 + (y2 - y1)**2)\n",
    "    return(distance)\n",
    "\n",
    "###############\n",
    "u=(3,0)\n",
    "v=(0,4)\n",
    "print(e_distance(u, v))\n"
   ]
  },
  {
   "cell_type": "markdown",
   "metadata": {},
   "source": [
    "4\\. Counting letters\n",
    "\n",
    "Write a program to calculate the number of times each character occurs in a given string *s*. Ignore differneces in capitalization"
   ]
  },
  {
   "cell_type": "markdown",
   "metadata": {},
   "source": [
    "s=\"Write a program that prints the numbers from 1 to 100. \\\n",
    "But for multiples of three print Mickey instead of the number and for the multiples of five print Mouse. \\\n",
    "For numbers which are multiples of both three and five print MickeyMouse\""
   ]
  },
  {
   "cell_type": "code",
   "execution_count": 5,
   "metadata": {},
   "outputs": [
    {
     "name": "stdout",
     "output_type": "stream",
     "text": [
      "(1, 2, 3, 4, 5, 6, 7, 8, 9, 10, 11, 12, 13, 14, 15, 16, 17, 18, 19, 20, 21, 22, 23, 24, 25, 26, 27, 28, 29, 30, 31, 32, 33, 34, 35, 36, 37, 38, 39, 40, 41, 42, 43, 44, 45, 46, 47, 48, 49, 50, 51, 52, 53, 54, 55, 56, 57, 58, 59, 60, 61, 62, 63, 64, 65, 66, 67, 68, 69, 70, 71, 72, 73, 74, 75, 76, 77, 78, 79, 80, 81, 82, 83, 84, 85, 86, 87, 88, 89, 90, 91, 92, 93, 94, 95, 96, 97, 98, 99, 100)\n",
      "Micky tuple: (3, 6, 9, 12, 18, 21, 24, 27, 33, 36, 39, 42, 48, 51, 54, 57, 63, 66, 69, 72, 78, 81, 84, 87, 93, 96, 99)\n",
      "Mouse tuple: (5, 10, 20, 25, 35, 40, 50, 55, 65, 70, 80, 85, 95, 100)\n",
      "MickeyMouse tuple: (15, 30, 45, 60, 75, 90)\n",
      "{'M': 1, 'i': 1, 'c': 1, 'k': 1, 'y': 1}\n"
     ]
    }
   ],
   "source": [
    "s = []\n",
    "for i in range(1,101):\n",
    "    #print(p)\n",
    "    s.append(i)\n",
    "s_tuple = tuple(s)\n",
    "print(s_tuple)\n",
    "\n",
    "        \n",
    "# Create separate tuples for Micky, Mouse, and MickeyMouse\n",
    "\n",
    "micky = []\n",
    "mouse = []\n",
    "mickeymouse = []\n",
    "\n",
    "for i in range(1, 101):\n",
    "    if i % 3 == 0 and i % 5 == 0:\n",
    "        mickeymouse.append(i)\n",
    "    elif i % 3 == 0:\n",
    "        micky.append(i)\n",
    "    elif i % 5 == 0:\n",
    "        mouse.append(i)\n",
    "\n",
    "# Convert lists to tuples\n",
    "micky_tuple = tuple(micky)\n",
    "mouse_tuple = tuple(mouse)\n",
    "mickeymouse_tuple = tuple(mickeymouse)\n",
    "\n",
    "# Print results\n",
    "print(\"Micky tuple:\", micky_tuple)\n",
    "print(\"Mouse tuple:\", mouse_tuple)\n",
    "print(\"MickeyMouse tuple:\", mickeymouse_tuple)\n",
    "\n",
    "\n",
    "\n",
    "s = \"Micky\"  # I have define the string and lly, we can change the string name mouse, mickeymouse..\n",
    "freq = {}  # It Create an empty dictionary to store character counts\n",
    "\n",
    "# Loop through each character in the string\n",
    "for char in s:\n",
    "    # Check if the character is already in the dictionary\n",
    "    # If yes, increase its count by 1\n",
    "    # If not, set its count to 1 (default value 0 + 1)\n",
    "    freq[char] = freq.get(char, 0) + 1\n",
    "\n",
    "# Step 4: Print the dictionary containing character frequencies\n",
    "print(freq)\n",
    "\n",
    "\n",
    "\n",
    "\n"
   ]
  },
  {
   "cell_type": "markdown",
   "metadata": {},
   "source": [
    "5\\. Isolating the unique\n",
    "\n",
    "Write a function that determines and count the unique numbers in the list *l*"
   ]
  },
  {
   "cell_type": "code",
   "execution_count": 6,
   "metadata": {},
   "outputs": [
    {
     "name": "stdout",
     "output_type": "stream",
     "text": [
      "Unique numbers: [58, 74, 96, 64, 10, 24, 19, 33, 86, 99, 18, 47, 88, 55, 54, 8, 79, 81, 57, 37, 1, 9, 95, 90, 98, 39, 16, 82, 92, 41, 30, 94, 5, 72, 87, 75, 53]\n",
      "Count of unique numbers: 37\n"
     ]
    }
   ],
   "source": [
    "l = [36, 45, 58, 3, 74, 96, 64, 45, 31, 10, 24, 19, 33, 86, 99, 18, 63, 70, 85,\n",
    " 85, 63, 47, 56, 42, 70, 84, 88, 55, 20, 54, 8, 56, 51, 79, 81, 57, 37, 91,\n",
    " 1, 84, 84, 36, 66, 9, 89, 50, 42, 91, 50, 95, 90, 98, 39, 16, 82, 31, 92, 41,\n",
    " 45, 30, 66, 70, 34, 85, 94, 5, 3, 36, 72, 91, 84, 34, 87, 75, 53, 51, 20, 89, 51, 20]\n",
    "\n",
    "# Function to find and count unique numbers\n",
    "def count_unique_numbers(numbers):\n",
    "    unique_list = []  # this will store numbers that appear only once\n",
    "    \n",
    "    for num in numbers:\n",
    "        # check how many times each number appears in the list\n",
    "        if numbers.count(num) == 1:\n",
    "            unique_list.append(num)  # if it appears only once, add to unique_list\n",
    "    \n",
    "    # return both the unique numbers and how many there are\n",
    "    return unique_list, len(unique_list)\n",
    "\n",
    "\n",
    "# our list\n",
    "l = [36, 45, 58, 3, 74, 96, 64, 45, 31, 10, 24, 19, 33, 86, 99, 18, 63, 70, 85,\n",
    "     85, 63, 47, 56, 42, 70, 84, 88, 55, 20, 54, 8, 56, 51, 79, 81, 57, 37, 91,\n",
    "     1, 84, 84, 36, 66, 9, 89, 50, 42, 91, 50, 95, 90, 98, 39, 16, 82, 31, 92, 41,\n",
    "     45, 30, 66, 70, 34, 85, 94, 5, 3, 36, 72, 91, 84, 34, 87, 75, 53, 51, 20, 89, 51, 20]\n",
    "\n",
    "# call the function\n",
    "unique_numbers, count = count_unique_numbers(l)\n",
    "\n",
    "# print the result\n",
    "print(\"Unique numbers:\", unique_numbers)\n",
    "print(\"Count of unique numbers:\", count)\n",
    "\n"
   ]
  },
  {
   "cell_type": "markdown",
   "metadata": {},
   "source": [
    "6\\. Combination of functions\n",
    "\n",
    "Write two functions - one that returns the square of a number, and one that returns the cube. Now write a third function that returns the number raised to the 6th power using the two previous functions."
   ]
  },
  {
   "cell_type": "code",
   "execution_count": 8,
   "metadata": {},
   "outputs": [
    {
     "name": "stdout",
     "output_type": "stream",
     "text": [
      "Enter a number: 2\n",
      "Square of 2.0 is: 4.0\n",
      "Cube of 2.0 is: 8.0\n",
      "6th power of 2.0 is: 64.0\n"
     ]
    }
   ],
   "source": [
    "def square(x):\n",
    "    return x * x\n",
    "\n",
    "def cube(x):\n",
    "    return x * x * x\n",
    "#power to 6 mean (x)^6= ((x)^2^3\n",
    "\n",
    "def sixth_power(x):\n",
    "    return cube(square(x))  # first square, then cube\n",
    "\n",
    "# Take user input\n",
    "x = float(input(\"Enter a number: \"))\n",
    "\n",
    "# Use the functions\n",
    "print(\"Square of\", x, \"is:\", square(x))\n",
    "print(\"Cube of\", x, \"is:\", cube(x))\n",
    "print(\"6th power of\", x, \"is:\", sixth_power(x))"
   ]
  },
  {
   "cell_type": "markdown",
   "metadata": {},
   "source": [
    "7\\. Cubes\n",
    "\n",
    "Create a list of the cubes of x for x in *[0, 10]* using:\n",
    "\n",
    "a) a for loop\n",
    "\n",
    "b) a list comprehension"
   ]
  },
  {
   "cell_type": "code",
   "execution_count": 9,
   "metadata": {},
   "outputs": [
    {
     "name": "stdout",
     "output_type": "stream",
     "text": [
      "Cubes using for loop: [0, 1, 8, 27, 64, 125, 216, 343, 512, 729, 1000]\n",
      "Cubes using list comprehension: [0, 1, 8, 27, 64, 125, 216, 343, 512, 729, 1000]\n"
     ]
    }
   ],
   "source": [
    "# Empty list to store cubes\n",
    "cubes_list = []\n",
    "\n",
    "# Loop through numbers 0 to 10\n",
    "for x in range(11):  # range(11) gives numbers 0,1,...,10\n",
    "    cubes_list.append(x**3)  # cube of x and add to list\n",
    "\n",
    "print(\"Cubes using for loop:\", cubes_list)\n",
    "\n",
    "cubes_list_comp = [x**3 for x in range(11)]\n",
    "print(\"Cubes using list comprehension:\", cubes_list_comp)\n",
    "\n"
   ]
  },
  {
   "cell_type": "markdown",
   "metadata": {},
   "source": [
    "8\\. Nested list comprehension\n",
    "\n",
    "A Pythagorean triple is an integer solution to the Pythagorean theorem $a^2+b^2=c^2$. The first Pythagorean triple is (3,4,5). Find and put in a tuple all unique Pythagorean triples for the positive integers a, b and c less than 100."
   ]
  },
  {
   "cell_type": "code",
   "execution_count": 10,
   "metadata": {},
   "outputs": [
    {
     "name": "stdout",
     "output_type": "stream",
     "text": [
      "5.0\n",
      "[(3, 4, 5), (5, 12, 13), (6, 8, 10), (7, 24, 25), (8, 15, 17), (9, 12, 15), (9, 40, 41), (10, 24, 26), (11, 60, 61), (12, 16, 20), (12, 35, 37), (13, 84, 85), (14, 48, 50), (15, 20, 25), (15, 36, 39), (16, 30, 34), (16, 63, 65), (18, 24, 30), (18, 80, 82), (20, 21, 29), (20, 48, 52), (21, 28, 35), (21, 72, 75), (24, 32, 40), (24, 45, 51), (24, 70, 74), (25, 60, 65), (27, 36, 45), (28, 45, 53), (30, 40, 50), (30, 72, 78), (32, 60, 68), (33, 44, 55), (33, 56, 65), (35, 84, 91), (36, 48, 60), (36, 77, 85), (39, 52, 65), (39, 80, 89), (40, 42, 58), (40, 75, 85), (42, 56, 70), (45, 60, 75), (48, 55, 73), (48, 64, 80), (51, 68, 85), (54, 72, 90), (57, 76, 95), (60, 63, 87), (65, 72, 97)]\n"
     ]
    }
   ],
   "source": [
    "import math\n",
    "a=3\n",
    "b=4\n",
    "c = math.sqrt(a**2 + b**2)  # square root of (a^2 + b^2)\n",
    "print(c)\n",
    "\n",
    "#pgt triplet condition i am defining is a^2+b^2=c^2 where 1=<a,b,c<100\n",
    "\n",
    "triples = []\n",
    "for a in range(1, 100):\n",
    "    for b in range(a, 100):  # start from a to avoid duplicates like (3,4,5) and (4,3,5)\n",
    "        for c in range(b, 100):  # c must be largest\n",
    "            if a**2 + b**2 == c**2:\n",
    "                triples.append((a, b, c))\n",
    "print(triples)\n",
    "\n",
    "\n"
   ]
  },
  {
   "cell_type": "code",
   "execution_count": 11,
   "metadata": {},
   "outputs": [
    {
     "name": "stdout",
     "output_type": "stream",
     "text": [
      "((3, 4, 5), (5, 12, 13), (6, 8, 10), (7, 24, 25), (8, 15, 17), (9, 12, 15), (9, 40, 41), (10, 24, 26), (11, 60, 61), (12, 16, 20), (12, 35, 37), (13, 84, 85), (14, 48, 50), (15, 20, 25), (15, 36, 39), (16, 30, 34), (16, 63, 65), (18, 24, 30), (18, 80, 82), (20, 21, 29), (20, 48, 52), (21, 28, 35), (21, 72, 75), (24, 32, 40), (24, 45, 51), (24, 70, 74), (25, 60, 65), (27, 36, 45), (28, 45, 53), (30, 40, 50), (30, 72, 78), (32, 60, 68), (33, 44, 55), (33, 56, 65), (35, 84, 91), (36, 48, 60), (36, 77, 85), (39, 52, 65), (39, 80, 89), (40, 42, 58), (40, 75, 85), (42, 56, 70), (45, 60, 75), (48, 55, 73), (48, 64, 80), (51, 68, 85), (54, 72, 90), (57, 76, 95), (60, 63, 87), (65, 72, 97))\n",
      "Number of triples: 50\n"
     ]
    }
   ],
   "source": [
    "pythagorean_triples = tuple(\n",
    "    (a, b, c)\n",
    "    for a in range(1, 100)\n",
    "    for b in range(a, 100)\n",
    "    for c in range(b, 100)\n",
    "    if a**2 + b**2 == c**2\n",
    ")\n",
    "\n",
    "print(pythagorean_triples)\n",
    "print(f\"Number of triples: {len(pythagorean_triples)}\")\n"
   ]
  },
  {
   "cell_type": "markdown",
   "metadata": {},
   "source": [
    "9\\. Normalization\n",
    "\n",
    "Write a function that takes a tuple of numbers and returns it with the entries normalized to one"
   ]
  },
  {
   "cell_type": "code",
   "execution_count": 13,
   "metadata": {},
   "outputs": [
    {
     "name": "stdout",
     "output_type": "stream",
     "text": [
      "(0.16666666666666666, 0.3333333333333333, 0.5)\n"
     ]
    }
   ],
   "source": [
    "# Normalization = making all numbers proportional so that their sum is 1.\n",
    "# Do this by dividing each number by the total sum.\n",
    "\n",
    "#You do this by dividing each number by the total sum.\n",
    "\n",
    "def normalize_tuple(numbers):\n",
    "    total = sum(numbers)          # Find the sum of all numbers\n",
    "    if total == 0:                # Avoid dividing by zero\n",
    "        return numbers\n",
    "    normalized = tuple(x / total for x in numbers)  # Divide each number by the total\n",
    "    return normalized\n",
    "\n",
    "# Example usage\n",
    "numbers = (2, 4, 6)\n",
    "normalized_numbers = normalize_tuple(numbers)\n",
    "print(normalized_numbers)  # Output: (0.16666666666666666, 0.3333333333333333, 0.5)\n"
   ]
  },
  {
   "cell_type": "code",
   "execution_count": 12,
   "metadata": {},
   "outputs": [],
   "source": [
    "import math\n"
   ]
  },
  {
   "cell_type": "code",
   "execution_count": null,
   "metadata": {},
   "outputs": [],
   "source": []
  }
 ],
 "metadata": {
  "kernelspec": {
   "display_name": "Python 3 (ipykernel)",
   "language": "python",
   "name": "python3"
  },
  "language_info": {
   "codemirror_mode": {
    "name": "ipython",
    "version": 3
   },
   "file_extension": ".py",
   "mimetype": "text/x-python",
   "name": "python",
   "nbconvert_exporter": "python",
   "pygments_lexer": "ipython3",
   "version": "3.9.13"
  }
 },
 "nbformat": 4,
 "nbformat_minor": 2
}
